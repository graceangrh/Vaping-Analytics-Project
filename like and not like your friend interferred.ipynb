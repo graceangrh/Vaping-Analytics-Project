{
 "cells": [
  {
   "cell_type": "code",
   "execution_count": 1,
   "id": "6d7000ce",
   "metadata": {},
   "outputs": [],
   "source": [
    "import pandas as pd\n",
    "import numpy as np\n",
    "import nltk\n",
    "from os import path\n",
    "from PIL import Image\n",
    "from wordcloud import WordCloud, STOPWORDS, ImageColorGenerator\n",
    "import matplotlib.pyplot as plt"
   ]
  },
  {
   "cell_type": "code",
   "execution_count": 7,
   "id": "bc472fb7",
   "metadata": {},
   "outputs": [
    {
     "name": "stdout",
     "output_type": "stream",
     "text": [
      "   Q2.11                                              Q2.12\n",
      "0    NaN                                                NaN\n",
      "1    NaN                                                NaN\n",
      "2    NaN                                                NaN\n",
      "3    NaN                                                NaN\n",
      "4    NaN                                                NaN\n",
      "..   ...                                                ...\n",
      "66   NaN                                                NaN\n",
      "67   Yes                                                  -\n",
      "68   Yes                                     a wake up call\n",
      "69   NaN                                                NaN\n",
      "70   Yes  yes and no. yes because it means they care. no...\n",
      "\n",
      "[71 rows x 2 columns]\n"
     ]
    }
   ],
   "source": [
    "df = pd.read_csv('like or not like their friends interfered.csv', encoding='cp1252')\n",
    "\n",
    "print(df) "
   ]
  },
  {
   "cell_type": "code",
   "execution_count": 8,
   "id": "f19d5f99",
   "metadata": {},
   "outputs": [
    {
     "data": {
      "text/html": [
       "<div>\n",
       "<style scoped>\n",
       "    .dataframe tbody tr th:only-of-type {\n",
       "        vertical-align: middle;\n",
       "    }\n",
       "\n",
       "    .dataframe tbody tr th {\n",
       "        vertical-align: top;\n",
       "    }\n",
       "\n",
       "    .dataframe thead th {\n",
       "        text-align: right;\n",
       "    }\n",
       "</style>\n",
       "<table border=\"1\" class=\"dataframe\">\n",
       "  <thead>\n",
       "    <tr style=\"text-align: right;\">\n",
       "      <th></th>\n",
       "      <th>did_you_like_your_friend_interfered</th>\n",
       "      <th>interfered</th>\n",
       "    </tr>\n",
       "  </thead>\n",
       "  <tbody>\n",
       "    <tr>\n",
       "      <th>0</th>\n",
       "      <td>NaN</td>\n",
       "      <td>NaN</td>\n",
       "    </tr>\n",
       "    <tr>\n",
       "      <th>1</th>\n",
       "      <td>NaN</td>\n",
       "      <td>NaN</td>\n",
       "    </tr>\n",
       "    <tr>\n",
       "      <th>2</th>\n",
       "      <td>NaN</td>\n",
       "      <td>NaN</td>\n",
       "    </tr>\n",
       "    <tr>\n",
       "      <th>3</th>\n",
       "      <td>NaN</td>\n",
       "      <td>NaN</td>\n",
       "    </tr>\n",
       "    <tr>\n",
       "      <th>4</th>\n",
       "      <td>NaN</td>\n",
       "      <td>NaN</td>\n",
       "    </tr>\n",
       "    <tr>\n",
       "      <th>5</th>\n",
       "      <td>NaN</td>\n",
       "      <td>NaN</td>\n",
       "    </tr>\n",
       "    <tr>\n",
       "      <th>6</th>\n",
       "      <td>NaN</td>\n",
       "      <td>NaN</td>\n",
       "    </tr>\n",
       "    <tr>\n",
       "      <th>7</th>\n",
       "      <td>NaN</td>\n",
       "      <td>NaN</td>\n",
       "    </tr>\n",
       "    <tr>\n",
       "      <th>8</th>\n",
       "      <td>NaN</td>\n",
       "      <td>NaN</td>\n",
       "    </tr>\n",
       "    <tr>\n",
       "      <th>9</th>\n",
       "      <td>NaN</td>\n",
       "      <td>NaN</td>\n",
       "    </tr>\n",
       "  </tbody>\n",
       "</table>\n",
       "</div>"
      ],
      "text/plain": [
       "  did_you_like_your_friend_interfered interfered\n",
       "0                                 NaN        NaN\n",
       "1                                 NaN        NaN\n",
       "2                                 NaN        NaN\n",
       "3                                 NaN        NaN\n",
       "4                                 NaN        NaN\n",
       "5                                 NaN        NaN\n",
       "6                                 NaN        NaN\n",
       "7                                 NaN        NaN\n",
       "8                                 NaN        NaN\n",
       "9                                 NaN        NaN"
      ]
     },
     "execution_count": 8,
     "metadata": {},
     "output_type": "execute_result"
    }
   ],
   "source": [
    "df.rename(columns={'Q2.11': 'did_you_like_your_friend_interfered', 'Q2.12': 'interfered'}, inplace=True)\n",
    "df.head(10)"
   ]
  },
  {
   "cell_type": "code",
   "execution_count": 13,
   "id": "0bb688b9",
   "metadata": {},
   "outputs": [
    {
     "data": {
      "text/html": [
       "<div>\n",
       "<style scoped>\n",
       "    .dataframe tbody tr th:only-of-type {\n",
       "        vertical-align: middle;\n",
       "    }\n",
       "\n",
       "    .dataframe tbody tr th {\n",
       "        vertical-align: top;\n",
       "    }\n",
       "\n",
       "    .dataframe thead th {\n",
       "        text-align: right;\n",
       "    }\n",
       "</style>\n",
       "<table border=\"1\" class=\"dataframe\">\n",
       "  <thead>\n",
       "    <tr style=\"text-align: right;\">\n",
       "      <th></th>\n",
       "      <th>did_you_like_your_friend_interfered</th>\n",
       "      <th>interfered</th>\n",
       "    </tr>\n",
       "  </thead>\n",
       "  <tbody>\n",
       "    <tr>\n",
       "      <th>12</th>\n",
       "      <td>Yes</td>\n",
       "      <td>.</td>\n",
       "    </tr>\n",
       "    <tr>\n",
       "      <th>14</th>\n",
       "      <td>Yes</td>\n",
       "      <td>-</td>\n",
       "    </tr>\n",
       "    <tr>\n",
       "      <th>16</th>\n",
       "      <td>Yes</td>\n",
       "      <td>they show care and concern for me</td>\n",
       "    </tr>\n",
       "    <tr>\n",
       "      <th>25</th>\n",
       "      <td>Yes</td>\n",
       "      <td>brother bro</td>\n",
       "    </tr>\n",
       "    <tr>\n",
       "      <th>31</th>\n",
       "      <td>Yes</td>\n",
       "      <td>shows they care</td>\n",
       "    </tr>\n",
       "    <tr>\n",
       "      <th>39</th>\n",
       "      <td>Yes</td>\n",
       "      <td>they are looking out for me</td>\n",
       "    </tr>\n",
       "    <tr>\n",
       "      <th>46</th>\n",
       "      <td>Yes</td>\n",
       "      <td>they are just showing that they care</td>\n",
       "    </tr>\n",
       "    <tr>\n",
       "      <th>50</th>\n",
       "      <td>Yes</td>\n",
       "      <td>They genuinely cared for my health</td>\n",
       "    </tr>\n",
       "    <tr>\n",
       "      <th>67</th>\n",
       "      <td>Yes</td>\n",
       "      <td>-</td>\n",
       "    </tr>\n",
       "    <tr>\n",
       "      <th>68</th>\n",
       "      <td>Yes</td>\n",
       "      <td>a wake up call</td>\n",
       "    </tr>\n",
       "    <tr>\n",
       "      <th>70</th>\n",
       "      <td>Yes</td>\n",
       "      <td>yes and no. yes because it means they care. no...</td>\n",
       "    </tr>\n",
       "  </tbody>\n",
       "</table>\n",
       "</div>"
      ],
      "text/plain": [
       "   did_you_like_your_friend_interfered  \\\n",
       "12                                 Yes   \n",
       "14                                 Yes   \n",
       "16                                 Yes   \n",
       "25                                 Yes   \n",
       "31                                 Yes   \n",
       "39                                 Yes   \n",
       "46                                 Yes   \n",
       "50                                 Yes   \n",
       "67                                 Yes   \n",
       "68                                 Yes   \n",
       "70                                 Yes   \n",
       "\n",
       "                                           interfered  \n",
       "12                                                  .  \n",
       "14                                                  -  \n",
       "16                  they show care and concern for me  \n",
       "25                                        brother bro  \n",
       "31                                    shows they care  \n",
       "39                        they are looking out for me  \n",
       "46               they are just showing that they care  \n",
       "50                 They genuinely cared for my health  \n",
       "67                                                  -  \n",
       "68                                     a wake up call  \n",
       "70  yes and no. yes because it means they care. no...  "
      ]
     },
     "execution_count": 13,
     "metadata": {},
     "output_type": "execute_result"
    }
   ],
   "source": [
    "df2 = df[df.did_you_like_your_friend_interfered == 'Yes']\n",
    "df2.head(15)"
   ]
  },
  {
   "cell_type": "code",
   "execution_count": 14,
   "id": "687f2a70",
   "metadata": {},
   "outputs": [
    {
     "data": {
      "text/html": [
       "<div>\n",
       "<style scoped>\n",
       "    .dataframe tbody tr th:only-of-type {\n",
       "        vertical-align: middle;\n",
       "    }\n",
       "\n",
       "    .dataframe tbody tr th {\n",
       "        vertical-align: top;\n",
       "    }\n",
       "\n",
       "    .dataframe thead th {\n",
       "        text-align: right;\n",
       "    }\n",
       "</style>\n",
       "<table border=\"1\" class=\"dataframe\">\n",
       "  <thead>\n",
       "    <tr style=\"text-align: right;\">\n",
       "      <th></th>\n",
       "      <th>did_you_like_your_friend_interfered</th>\n",
       "      <th>interfered</th>\n",
       "    </tr>\n",
       "  </thead>\n",
       "  <tbody>\n",
       "    <tr>\n",
       "      <th>12</th>\n",
       "      <td>Yes</td>\n",
       "      <td>.</td>\n",
       "    </tr>\n",
       "    <tr>\n",
       "      <th>16</th>\n",
       "      <td>Yes</td>\n",
       "      <td>they show care and concern for me</td>\n",
       "    </tr>\n",
       "    <tr>\n",
       "      <th>25</th>\n",
       "      <td>Yes</td>\n",
       "      <td>brother bro</td>\n",
       "    </tr>\n",
       "    <tr>\n",
       "      <th>31</th>\n",
       "      <td>Yes</td>\n",
       "      <td>shows they care</td>\n",
       "    </tr>\n",
       "    <tr>\n",
       "      <th>39</th>\n",
       "      <td>Yes</td>\n",
       "      <td>they are looking out for me</td>\n",
       "    </tr>\n",
       "    <tr>\n",
       "      <th>46</th>\n",
       "      <td>Yes</td>\n",
       "      <td>they are just showing that they care</td>\n",
       "    </tr>\n",
       "    <tr>\n",
       "      <th>50</th>\n",
       "      <td>Yes</td>\n",
       "      <td>They genuinely cared for my health</td>\n",
       "    </tr>\n",
       "    <tr>\n",
       "      <th>68</th>\n",
       "      <td>Yes</td>\n",
       "      <td>a wake up call</td>\n",
       "    </tr>\n",
       "    <tr>\n",
       "      <th>70</th>\n",
       "      <td>Yes</td>\n",
       "      <td>yes and no. yes because it means they care. no...</td>\n",
       "    </tr>\n",
       "  </tbody>\n",
       "</table>\n",
       "</div>"
      ],
      "text/plain": [
       "   did_you_like_your_friend_interfered  \\\n",
       "12                                 Yes   \n",
       "16                                 Yes   \n",
       "25                                 Yes   \n",
       "31                                 Yes   \n",
       "39                                 Yes   \n",
       "46                                 Yes   \n",
       "50                                 Yes   \n",
       "68                                 Yes   \n",
       "70                                 Yes   \n",
       "\n",
       "                                           interfered  \n",
       "12                                                  .  \n",
       "16                  they show care and concern for me  \n",
       "25                                        brother bro  \n",
       "31                                    shows they care  \n",
       "39                        they are looking out for me  \n",
       "46               they are just showing that they care  \n",
       "50                 They genuinely cared for my health  \n",
       "68                                     a wake up call  \n",
       "70  yes and no. yes because it means they care. no...  "
      ]
     },
     "execution_count": 14,
     "metadata": {},
     "output_type": "execute_result"
    }
   ],
   "source": [
    "df2 = df2[df2.interfered != \"-\"]\n",
    "df2"
   ]
  },
  {
   "cell_type": "code",
   "execution_count": 15,
   "id": "8148005f",
   "metadata": {},
   "outputs": [
    {
     "data": {
      "text/html": [
       "<div>\n",
       "<style scoped>\n",
       "    .dataframe tbody tr th:only-of-type {\n",
       "        vertical-align: middle;\n",
       "    }\n",
       "\n",
       "    .dataframe tbody tr th {\n",
       "        vertical-align: top;\n",
       "    }\n",
       "\n",
       "    .dataframe thead th {\n",
       "        text-align: right;\n",
       "    }\n",
       "</style>\n",
       "<table border=\"1\" class=\"dataframe\">\n",
       "  <thead>\n",
       "    <tr style=\"text-align: right;\">\n",
       "      <th></th>\n",
       "      <th>did_you_like_your_friend_interfered</th>\n",
       "      <th>interfered</th>\n",
       "    </tr>\n",
       "  </thead>\n",
       "  <tbody>\n",
       "    <tr>\n",
       "      <th>16</th>\n",
       "      <td>Yes</td>\n",
       "      <td>they show care and concern for me</td>\n",
       "    </tr>\n",
       "    <tr>\n",
       "      <th>25</th>\n",
       "      <td>Yes</td>\n",
       "      <td>brother bro</td>\n",
       "    </tr>\n",
       "    <tr>\n",
       "      <th>31</th>\n",
       "      <td>Yes</td>\n",
       "      <td>shows they care</td>\n",
       "    </tr>\n",
       "    <tr>\n",
       "      <th>39</th>\n",
       "      <td>Yes</td>\n",
       "      <td>they are looking out for me</td>\n",
       "    </tr>\n",
       "    <tr>\n",
       "      <th>46</th>\n",
       "      <td>Yes</td>\n",
       "      <td>they are just showing that they care</td>\n",
       "    </tr>\n",
       "    <tr>\n",
       "      <th>50</th>\n",
       "      <td>Yes</td>\n",
       "      <td>They genuinely cared for my health</td>\n",
       "    </tr>\n",
       "    <tr>\n",
       "      <th>68</th>\n",
       "      <td>Yes</td>\n",
       "      <td>a wake up call</td>\n",
       "    </tr>\n",
       "    <tr>\n",
       "      <th>70</th>\n",
       "      <td>Yes</td>\n",
       "      <td>yes and no. yes because it means they care. no...</td>\n",
       "    </tr>\n",
       "  </tbody>\n",
       "</table>\n",
       "</div>"
      ],
      "text/plain": [
       "   did_you_like_your_friend_interfered  \\\n",
       "16                                 Yes   \n",
       "25                                 Yes   \n",
       "31                                 Yes   \n",
       "39                                 Yes   \n",
       "46                                 Yes   \n",
       "50                                 Yes   \n",
       "68                                 Yes   \n",
       "70                                 Yes   \n",
       "\n",
       "                                           interfered  \n",
       "16                  they show care and concern for me  \n",
       "25                                        brother bro  \n",
       "31                                    shows they care  \n",
       "39                        they are looking out for me  \n",
       "46               they are just showing that they care  \n",
       "50                 They genuinely cared for my health  \n",
       "68                                     a wake up call  \n",
       "70  yes and no. yes because it means they care. no...  "
      ]
     },
     "execution_count": 15,
     "metadata": {},
     "output_type": "execute_result"
    }
   ],
   "source": [
    "df2 = df2[df2.interfered != \".\"]\n",
    "df2"
   ]
  },
  {
   "cell_type": "code",
   "execution_count": 16,
   "id": "a59ddcd0",
   "metadata": {},
   "outputs": [
    {
     "data": {
      "text/plain": [
       "'they show care and concern for me brother bro shows they care they are looking out for me they are just showing that they care They genuinely cared for my health a wake up call yes and no. yes because it means they care. no bcs when they mentioned i was in the midst of a relapse and did not want to stop. they had my bests interested at heart but i wasn’t ready to listen.'"
      ]
     },
     "execution_count": 16,
     "metadata": {},
     "output_type": "execute_result"
    }
   ],
   "source": [
    "interfered_longtext = \" \".join(text for text in df2.interfered)\n",
    "interfered_longtext "
   ]
  },
  {
   "cell_type": "code",
   "execution_count": 17,
   "id": "b8b23284",
   "metadata": {},
   "outputs": [
    {
     "name": "stdout",
     "output_type": "stream",
     "text": [
      "{'during', 'doing', 'get', 'is', 'herself', 'its', \"what's\", 'has', \"shan't\", 'very', \"won't\", 'and', 'been', 'her', \"he'll\", 'it', 'myself', 'our', 'when', 'therefore', 'by', 'more', 'so', 'can', 'i', \"i'll\", 'which', \"they'd\", 'else', 'over', 'after', 'with', 'against', \"isn't\", \"i'm\", 'r', 'through', \"when's\", 'up', 'these', 'itself', 'cannot', 'both', \"they've\", 'or', 'should', \"she's\", 'other', \"let's\", 'com', 'from', \"couldn't\", \"who's\", 'then', 'would', 'hence', \"don't\", 'of', 'but', 'do', 'we', \"there's\", 'to', 'out', 'yours', 'theirs', 'like', 'hers', 'no', \"why's\", \"doesn't\", 'under', 'www', \"wasn't\", \"aren't\", 'him', 'your', 'again', 'ourselves', 'where', 'his', 'are', 'http', 'each', \"that's\", 'were', 'their', 'could', 'off', 'in', 'yourselves', 'those', 'ours', \"i've\", 'be', 'did', \"haven't\", 'further', \"we'd\", 'into', 'he', 'you', 'otherwise', 'most', 'an', 'had', 'once', 'having', 'themselves', 'how', 'on', \"here's\", 'some', \"wouldn't\", \"how's\", 'k', 'the', 'about', 'as', 'here', \"he'd\", \"mustn't\", \"they're\", 'at', 'if', \"she'd\", \"shouldn't\", \"i'd\", 'few', 'am', 'also', 'does', 'because', \"we've\", 'before', 'she', 'why', 'himself', 'not', 'them', 'they', 'yourself', 'nor', \"we'll\", 'that', 'just', 'what', 'shall', \"can't\", 'ever', 'my', \"she'll\", \"we're\", 'same', \"didn't\", 'there', 'above', 'until', 'me', \"you've\", 'ought', \"you'll\", 'too', \"it's\", 'than', 'for', \"they'll\", 'down', \"hadn't\", \"weren't\", 'since', \"you'd\", 'have', 'only', \"where's\", 'while', \"hasn't\", 'who', 'was', \"you're\", 'between', 'all', 'such', 'whom', 'a', \"he's\", 'however', 'this', 'below', 'own', 'any', 'being'}\n"
     ]
    }
   ],
   "source": [
    "stopwords = set(STOPWORDS)\n",
    "print(stopwords)"
   ]
  },
  {
   "cell_type": "code",
   "execution_count": 21,
   "id": "35c8df36",
   "metadata": {},
   "outputs": [
    {
     "name": "stdout",
     "output_type": "stream",
     "text": [
      "{'during', 'doing', 'get', 'is', 'herself', 'its', \"what's\", 'has', \"shan't\", 'very', \"won't\", 'and', 'been', 'her', \"he'll\", 'it', 'myself', 'our', 'when', 'therefore', 'by', 'more', 'so', 'bcs', 'can', 'i', \"i'll\", 'which', \"they'd\", 'else', 'over', 'after', 'with', 'against', \"isn't\", \"i'm\", 'r', 'through', \"when's\", 'up', 'these', 'want', 'itself', 'cannot', 'both', \"they've\", 'or', 'should', \"she's\", 'other', \"let's\", 'com', 'from', \"couldn't\", \"who's\", 'then', 'would', 'hence', \"don't\", 'of', 'but', 'do', 'we', \"there's\", 'know', 'to', 'out', 'yours', 'theirs', 'like', 'hers', 'no', \"why's\", \"doesn't\", 'under', 'www', \"wasn't\", \"aren't\", 'him', 'your', 'again', 'ourselves', 'where', 'his', 'are', 'http', 'each', \"that's\", 'were', 'their', 't', 'show', 'could', 'off', 'in', 'yourselves', 'those', 'ours', \"i've\", 'be', 'did', \"haven't\", 'further', \"we'd\", 'into', 'he', 'you', 'otherwise', 'most', 'an', 'had', 'once', 'having', 'themselves', 'how', 'on', \"here's\", 'some', \"wouldn't\", \"how's\", 'k', 'the', 'about', 'as', 'here', \"he'd\", \"mustn't\", \"they're\", 'at', 'if', \"she'd\", \"shouldn't\", \"i'd\", 'few', 'am', 'also', 'does', 'because', \"we've\", 'before', 'she', 'why', 'himself', 'not', 'them', 'they', 'yourself', 'nor', \"we'll\", 'that', 'just', 'what', 'shall', \"can't\", 'ever', 'my', \"she'll\", \"we're\", 'same', \"didn't\", 'there', 'above', 'until', 'me', \"you've\", 'ought', \"you'll\", 'too', \"it's\", 'than', 'for', \"they'll\", 'down', \"hadn't\", \"weren't\", 'since', \"you'd\", 'have', 'only', \"where's\", 'while', \"hasn't\", 'who', 'was', \"you're\", 'between', 'all', 'means', 'such', 'whom', 'a', \"he's\", 'wasn', 'however', 'this', 'below', 'own', 'any', 'being'}\n"
     ]
    },
    {
     "data": {
      "text/plain": [
       "'they show care and concern for me brother bro shows they care they are looking out for me they are just showing that they care they genuinely cared for my health a wake up call yes and no. yes because it means they care. no bcs when they mentioned i was in the midst of a relapse and did not want to stop. they had my bests interested at heart but i wasn’t ready to listen.'"
      ]
     },
     "execution_count": 21,
     "metadata": {},
     "output_type": "execute_result"
    }
   ],
   "source": [
    "interfered_longtext = interfered_longtext.lower()\n",
    "stopwords.update([\"wasn\", \"means\", \"bcs\", \"t\", \"show\", \"know\", \"want\"])\n",
    "print(stopwords)\n",
    "interfered_longtext"
   ]
  },
  {
   "cell_type": "code",
   "execution_count": 22,
   "id": "f3e0e228",
   "metadata": {},
   "outputs": [
    {
     "data": {
      "image/png": "[encoded data removed]",
      "text/plain": [
       "<Figure size 432x288 with 1 Axes>"
      ]
     },
     "metadata": {
      "needs_background": "light"
     },
     "output_type": "display_data"
    }
   ],
   "source": [
    "# Generate a word cloud image\n",
    "wordcloud = WordCloud(stopwords=stopwords, max_words=70, background_color=\"white\").generate(interfered_longtext)\n",
    "\n",
    "# Display the generated image:\n",
    "# the matplotlib way:\n",
    "plt.imshow(wordcloud, interpolation='bilinear')\n",
    "plt.axis(\"off\")\n",
    "plt.show()"
   ]
  },
  {
   "cell_type": "code",
   "execution_count": 23,
   "id": "8a1a7774",
   "metadata": {},
   "outputs": [
    {
     "data": {
      "text/plain": [
       "<wordcloud.wordcloud.WordCloud at 0x234fe7e8670>"
      ]
     },
     "execution_count": 23,
     "metadata": {},
     "output_type": "execute_result"
    }
   ],
   "source": [
    "# Save the image in the img folder:\n",
    "wordcloud.to_file(\"like or not like interfered.png\")"
   ]
  },
  {
   "cell_type": "code",
   "execution_count": null,
   "id": "38aa1194",
   "metadata": {},
   "outputs": [],
   "source": []
  }
 ],
 "metadata": {
  "kernelspec": {
   "display_name": "Python 3",
   "language": "python",
   "name": "python3"
  },
  "language_info": {
   "codemirror_mode": {
    "name": "ipython",
    "version": 3
   },
   "file_extension": ".py",
   "mimetype": "text/x-python",
   "name": "python",
   "nbconvert_exporter": "python",
   "pygments_lexer": "ipython3",
   "version": "3.8.8"
  }
 },
 "nbformat": 4,
 "nbformat_minor": 5
}
